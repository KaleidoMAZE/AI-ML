{
 "cells": [
  {
   "cell_type": "code",
   "execution_count": 14,
   "metadata": {},
   "outputs": [
    {
     "name": "stdout",
     "output_type": "stream",
     "text": [
      "학년: 11\n",
      "반: 11\n",
      "번호: 11\n",
      "국어 점수: 88\n",
      "영어 점수: 99\n",
      "수학 점수: 99\n",
      "물리 점수: 87\n",
      "==============================================================\n",
      "  번호\t국어\t영어\t수학\t물리\t총점\t평균\t학점\n",
      "==============================================================\n",
      "  11 \t 88 \t 99 \t 99 \t 87 \t 373 \t 93.25 \t A\n"
     ]
    }
   ],
   "source": [
    "grade = input(\"학년: \")\n",
    "room = input(\"반: \")\n",
    "num = input(\"번호: \")\n",
    "\n",
    "KOR = int(input(\"국어 점수: \"))\n",
    "ENG = int(input(\"영어 점수: \"))\n",
    "Math = int(input(\"수학 점수: \"))\n",
    "Phys = int(input(\"물리 점수: \"))\n",
    "\n",
    "total = KOR + ENG + Math + Phys\n",
    "\n",
    "aver = total / 4\n",
    "\n",
    "if aver > 90:\n",
    "    GPA = 'A'\n",
    "elif aver > 50:\n",
    "    GPA = 'B'\n",
    "elif aver > 30:\n",
    "    GPA = 'C'\n",
    "else:\n",
    "    GPA = 'F'\n",
    "\n",
    "print(\"=\" * 62)\n",
    "print(' ',\"번호\\t국어\\t영어\\t수학\\t물리\\t총점\\t평균\\t학점\")\n",
    "print(\"=\" * 62)\n",
    "print(' ', num, '\\t', KOR, '\\t', ENG, '\\t', Math, '\\t', Phys, '\\t', total, '\\t', aver, '\\t', GPA)"
   ]
  },
  {
   "cell_type": "code",
   "execution_count": null,
   "metadata": {},
   "outputs": [],
   "source": []
  }
 ],
 "metadata": {
  "kernelspec": {
   "display_name": "Python 3",
   "language": "python",
   "name": "python3"
  },
  "language_info": {
   "codemirror_mode": {
    "name": "ipython",
    "version": 3
   },
   "file_extension": ".py",
   "mimetype": "text/x-python",
   "name": "python",
   "nbconvert_exporter": "python",
   "pygments_lexer": "ipython3",
   "version": "3.7.6"
  }
 },
 "nbformat": 4,
 "nbformat_minor": 4
}
