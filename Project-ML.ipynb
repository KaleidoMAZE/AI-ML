{
 "cells": [
  {
   "cell_type": "code",
   "execution_count": 3,
   "metadata": {},
   "outputs": [],
   "source": [
    "import requests\n",
    "import json\n",
    "import datetime\n",
    "\n",
    "vilage_weather_url = \"http://apis.data.go.kr/1360000/VilageFcstInfoService/getVilageFcst?\" #공공데이터 포탈을 통해 데이터 수집\n",
    "\n",
    "service_key = \"6ClTIhHLgyLqzpIO1EsI54T%2BD02t9STimsteXUUqMaqDJ17G5ylnSlE%2BJ7AsCtqWCyV2H9aOtmDpVGgRwzatoA%3D%3D\"#API 인증키\n",
    "\n",
    "today = datetime.datetime.today()\n",
    "base_date = today.strftime(\"%Y%m%d\") # 오늘 날짜 받아오기\n",
    "base_time = \"0500\" # 날씨 값 설정\n",
    "\n",
    "nx = \"68\" #위치 청주시 서원구 사창동\n",
    "ny = \"107\"\n",
    "\n",
    "payload = \"serviceKey=\" + service_key + \"&\" +\\\n",
    "    \"dataType=json\" + \"&\" +\\\n",
    "    \"base_date=\" + base_date + \"&\" +\\\n",
    "    \"base_time=\" + base_time + \"&\" +\\\n",
    "    \"nx=\" + nx + \"&\" +\\\n",
    "    \"ny=\" + ny\n",
    "\n",
    "# 값 요청\n",
    "res = requests.get(vilage_weather_url + payload)\n",
    "\n",
    "items = res.json().get('response').get('body').get('items').get('item')"
   ]
  },
  {
   "cell_type": "code",
   "execution_count": 4,
   "metadata": {},
   "outputs": [
    {
     "data": {
      "text/plain": [
       "{'code': '0', 'state': '없음', 'tmp': '24'}"
      ]
     },
     "execution_count": 4,
     "metadata": {},
     "output_type": "execute_result"
    }
   ],
   "source": [
    "data = dict()\n",
    "data['date'] = base_date\n",
    "\n",
    "weather_data = dict()\n",
    "for item in items:\n",
    "    # 기온\n",
    "    if item['category'] == 'T3H':\n",
    "        weather_data['tmp'] = item['fcstValue']\n",
    "    \n",
    "    # 기상상태\n",
    "    if item['category'] == 'PTY':\n",
    "        \n",
    "        weather_code = item['fcstValue']\n",
    "        \n",
    "        if weather_code == '1':\n",
    "            weather_state = '비'\n",
    "        elif weather_code == '2':\n",
    "            weather_state = '비/눈'\n",
    "        elif weather_code == '3':\n",
    "            weather_state = '눈'\n",
    "        elif weather_code == '4':\n",
    "            weather_state = '소나기'\n",
    "        else:\n",
    "            weather_state = '없음'\n",
    "        \n",
    "        weather_data['code'] = weather_code\n",
    "        weather_data['state'] = weather_state\n",
    "\n",
    "data['weather'] = weather_data\n",
    "data['weather']\n"
   ]
  },
  {
   "cell_type": "code",
   "execution_count": 45,
   "metadata": {},
   "outputs": [],
   "source": [
    "rain_foods = \"부대찌개,아구찜,해물탕,칼국수,수제비,짬뽕,우동,치킨,국밥,김치부침개,두부김치,파전\".split(',')"
   ]
  },
  {
   "cell_type": "code",
   "execution_count": 46,
   "metadata": {},
   "outputs": [],
   "source": [
    "# 네이버 인증\n",
    "# https://developers.naver.com/apps\n",
    "# 해당 사이트에서 로그인 후 \"Cliend ID\"와 \"Client Secret\"을 얻어오세요\n",
    "ncreds = {\n",
    "    \"client_id\": \"h2hShXcfQlggujGmM3J8\",      \n",
    "    \"client_secret\" : \"s3DPfBHzd1\"\n",
    "}\n",
    "nheaders = {\n",
    "    \"X-Naver-Client-Id\" : ncreds.get('client_id'),\n",
    "    \"X-Naver-Client-Secret\" : ncreds.get('client_secret')\n",
    "}\n",
    "\n",
    "# 경우 1 : 비/눈/소나기           => rain_foods에 있는 맛집\n",
    "# 경우 2 : 정상                   => 블로그 리뷰 순 맛집 추천\n",
    "\n",
    "# weather_state\n",
    "if data.get('weather').get('code') != '0':\n",
    "    weather_state = '1'\n",
    "else:\n",
    "    weather_state = '2'"
   ]
  },
  {
   "cell_type": "code",
   "execution_count": 47,
   "metadata": {},
   "outputs": [],
   "source": [
    "import random\n",
    "# random.sample(x, k=len(x)) 무작위로 리스트 섞기\n",
    "\n",
    "foods_list = None\n",
    "\n",
    "# 경우 1, 2\n",
    "if weather_state == '1':\n",
    "    foods_list = random.sample(rain_foods, k=len(rain_foods))\n",
    "else:\n",
    "    foods_list = ['']\n",
    "\n",
    "foods_list\n",
    "# ['쌀국수', '굴', '콩나물국밥', '마라탕', '고등어']\n",
    "\n",
    "\n",
    "food_list = ['쌀국수', '굴', '콩나물국밥', '마라탕', '고등어']\n",
    "\n"
   ]
  },
  {
   "cell_type": "code",
   "execution_count": 48,
   "metadata": {},
   "outputs": [],
   "source": [
    "import urllib\n",
    "\n",
    "# 네이버 지역 검색 주소\n",
    "naver_local_url = \"https://openapi.naver.com/v1/search/local.json?\"\n",
    "\n",
    "# 검색에 사용될 파라미터\n",
    "# 정렬 sort : 리뷰순(comment)\n",
    "# 검색어 query : 인코딩된 문자열\n",
    "params_format = \"sort=comment&query=\"\n",
    "\n",
    "# 위치는 사용자가 사용할 지역으로 변경가능\n",
    "location = \"충북대\"\n",
    "\n",
    "# 추천된 맛집을 담을 리스트\n",
    "recommands = []\n",
    "for food in foods_list:\n",
    "    # 검색어 지정\n",
    "    query = location + \" \" + food + \" 맛집\"\n",
    "    enc_query = urllib.parse.quote(query)\n",
    "    params = params_format + enc_query\n",
    "    \n",
    "    # 검색\n",
    "    # headers : 네이버 인증 정보\n",
    "    res = requests.get(naver_local_url + params, headers=nheaders)\n",
    "    \n",
    "    # 맛집 검색 결과\n",
    "    result_list = res.json().get('items')\n",
    "\n",
    "    # 경우 3 처리\n",
    "    # 맛집 검색 결과에서 가장 상위 3개를 가져옴\n",
    "    if weather_state == '3':\n",
    "        for i in range(0,3):\n",
    "            recommands.append(result_list[i])\n",
    "        break\n",
    "    \n",
    "    # 경우 1,2 처리\n",
    "    # 해당 음식 검색 결과에서 가장 상위를 가져옴\n",
    "    if result_list:\n",
    "        recommands.append(result_list[0])\n",
    "        # 3개를 찾았다면 검색 중단\n",
    "        if len(recommands) >= 3:\n",
    "            break"
   ]
  },
  {
   "cell_type": "code",
   "execution_count": 49,
   "metadata": {},
   "outputs": [],
   "source": [
    "app_key = \"e611d4d685428e8ec80f37429a715ee4\"#카카오 rest api 키\n",
    "code = \"Iguic0jXra4_ygKcJwv7eX1dZ-BSKIYhM1Puyl3zS-vF3DxDSMlz4bWsc_3hFicg-LmCKgo9dRkAAAFywW9gAg\"\n",
    "#카카오톡으로 자신에게 정보 전달 하도록 하는 연결키"
   ]
  },
  {
   "cell_type": "code",
   "execution_count": 50,
   "metadata": {},
   "outputs": [
    {
     "name": "stdout",
     "output_type": "stream",
     "text": [
      "{'access_token': 'GXgvmBsaqj45yd14IkaLtX-65dNEU93eH4pZUgopb1UAAAFywXBWAQ', 'token_type': 'bearer', 'refresh_token': '-k-pFvBV8n1rL-cPSBzTexy2I8wFfN5PXlCTfQopb1UAAAFywXBWAA', 'expires_in': 21599, 'scope': 'account_email talk_message profile', 'refresh_token_expires_in': 5183999}\n"
     ]
    }
   ],
   "source": [
    "url = \"https://kauth.kakao.com/oauth/token\"#카카오톡 토큰 url\n",
    "\n",
    "data2 = {\n",
    "    \"grant_type\" : \"authorization_code\",\n",
    "    \"client_id\" : app_key, \n",
    "    \"redirect_uri\" : \"https://localhost.com\",\n",
    "    \"code\"         : code\n",
    "    \n",
    "}\n",
    "response = requests.post(url, data=data2)\n",
    "\n",
    "tokens = response.json()\n",
    "\n",
    "print(tokens)"
   ]
  },
  {
   "cell_type": "code",
   "execution_count": 51,
   "metadata": {
    "scrolled": true
   },
   "outputs": [],
   "source": [
    "#url = \"https://kauth.kakao.com/oauth/token\"\n",
    "#data3 = {\n",
    "#    \"grant_type\" : \"refresh_token\",\n",
    "#    \"client_id\"  : app_key,\n",
    "#    \"refresh_token\" : \"LR2JqA6PXecQJK2VBnU8sC9evim2W5jnoK3dSwo9dNsAAAFyhJLrig\"\n",
    "#}\n",
    "#response = requests.post(url, data=data3)\n",
    "#tokens = response.json()\n",
    "#print(tokens)"
   ]
  },
  {
   "cell_type": "code",
   "execution_count": 52,
   "metadata": {},
   "outputs": [],
   "source": [
    "with open(\"kakao_token.json\", \"w\") as fp:\n",
    "    json.dump(tokens, fp)"
   ]
  },
  {
   "cell_type": "code",
   "execution_count": 53,
   "metadata": {},
   "outputs": [],
   "source": [
    "#with open(\"kakao_token.json\", \"r\") as fp:\n",
    " #   tokens = json.load(fp)"
   ]
  },
  {
   "cell_type": "code",
   "execution_count": 54,
   "metadata": {},
   "outputs": [
    {
     "data": {
      "text/plain": [
       "{'access_token': 'GXgvmBsaqj45yd14IkaLtX-65dNEU93eH4pZUgopb1UAAAFywXBWAQ',\n",
       " 'token_type': 'bearer',\n",
       " 'refresh_token': '-k-pFvBV8n1rL-cPSBzTexy2I8wFfN5PXlCTfQopb1UAAAFywXBWAA',\n",
       " 'expires_in': 21599,\n",
       " 'scope': 'account_email talk_message profile',\n",
       " 'refresh_token_expires_in': 5183999}"
      ]
     },
     "execution_count": 54,
     "metadata": {},
     "output_type": "execute_result"
    }
   ],
   "source": [
    "tokens"
   ]
  },
  {
   "cell_type": "code",
   "execution_count": 55,
   "metadata": {},
   "outputs": [],
   "source": [
    "kcreds = {\n",
    "    \"access_token\" : tokens['access_token']\n",
    "}\n",
    "\n",
    "kheaders = {\n",
    "    \"Authorization\" : \"Bearer \" + kcreds.get('access_token')\n",
    "}"
   ]
  },
  {
   "cell_type": "code",
   "execution_count": 56,
   "metadata": {},
   "outputs": [
    {
     "name": "stdout",
     "output_type": "stream",
     "text": [
      "메시지를 성공적으로 보냈습니다.\n"
     ]
    }
   ],
   "source": [
    "import json\n",
    "import requests\n",
    "\n",
    "# 카카오톡 URL 주소\n",
    "kakaotalk_template_url = \"https://kapi.kakao.com/v2/api/talk/memo/default/send\"\n",
    "\n",
    "# 날씨 상세 정보 URL\n",
    "weather_url = \"https://search.naver.com/search.naver?sm=top_hty&fbm=0&ie=utf8&query=%EB%82%A0%EC%94%A8\"\n",
    "\n",
    "# 날씨 정보 만들기 \n",
    "text = f\"\"\"#날씨 정보 ({data['date']}) \n",
    "기온 : {data['weather']['tmp']} \n",
    "기우  : {data['weather']['state']} \n",
    "\"\"\"\n",
    "\n",
    "# 텍스트 템플릿 형식 만들기\n",
    "template = {\n",
    "  \"object_type\": \"text\",\n",
    "  \"text\": text,\n",
    "  \"link\": {\n",
    "    \"web_url\": weather_url,\n",
    "    \"mobile_web_url\": weather_url\n",
    "  },\n",
    "  \"button_title\": \"날씨 상세보기\"\n",
    "}\n",
    "\n",
    "# JSON 형식 -> 문자열 변환\n",
    "payload = {\n",
    "    \"template_object\" : json.dumps(template)\n",
    "}\n",
    "\n",
    "# 카카오톡 보내기\n",
    "res = requests.request(\"POST\", kakaotalk_template_url, data =payload, headers=kheaders)\n",
    "\n",
    "if res.json().get('result_code') == 0:\n",
    "    print('메시지를 성공적으로 보냈습니다.')\n",
    "else:\n",
    "    print('메시지를 성공적으로 보내지 못했습니다. 오류메시지 : ' + str(res.json()))\n"
   ]
  },
  {
   "cell_type": "code",
   "execution_count": 1,
   "metadata": {},
   "outputs": [
    {
     "ename": "NameError",
     "evalue": "name 'weather_url' is not defined",
     "output_type": "error",
     "traceback": [
      "\u001b[1;31m---------------------------------------------------------------------------\u001b[0m",
      "\u001b[1;31mNameError\u001b[0m                                 Traceback (most recent call last)",
      "\u001b[1;32m<ipython-input-1-9e8f3a97ae31>\u001b[0m in \u001b[0;36m<module>\u001b[1;34m\u001b[0m\n\u001b[0;32m      4\u001b[0m     \u001b[1;34m\"header_title\"\u001b[0m \u001b[1;33m:\u001b[0m \u001b[1;34m\"현재 날씨에 따른 음식 추천\"\u001b[0m\u001b[1;33m,\u001b[0m\u001b[1;33m\u001b[0m\u001b[1;33m\u001b[0m\u001b[0m\n\u001b[0;32m      5\u001b[0m     \"header_link\" : {\n\u001b[1;32m----> 6\u001b[1;33m         \u001b[1;34m\"web_url\"\u001b[0m\u001b[1;33m:\u001b[0m \u001b[0mweather_url\u001b[0m\u001b[1;33m,\u001b[0m\u001b[1;33m\u001b[0m\u001b[1;33m\u001b[0m\u001b[0m\n\u001b[0m\u001b[0;32m      7\u001b[0m         \u001b[1;34m\"mobile_web_url\"\u001b[0m \u001b[1;33m:\u001b[0m \u001b[0mweather_url\u001b[0m\u001b[1;33m\u001b[0m\u001b[1;33m\u001b[0m\u001b[0m\n\u001b[0;32m      8\u001b[0m     },\n",
      "\u001b[1;31mNameError\u001b[0m: name 'weather_url' is not defined"
     ]
    }
   ],
   "source": [
    "contents = []\n",
    "template = {\n",
    "    \"object_type\" : \"list\",\n",
    "    \"header_title\" : \"현재 날씨에 따른 음식 추천\",\n",
    "    \"header_link\" : {\n",
    "        \"web_url\": weather_url,\n",
    "        \"mobile_web_url\" : weather_url\n",
    "    },\n",
    "    \"contents\" : contents,\n",
    "    \"buttons\" : [\n",
    "        {\n",
    "            \"title\" : \"날씨 정보 상세보기\",\n",
    "            \"link\" : {\n",
    "                \"web_url\": weather_url,\n",
    "                \"mobile_web_url\" : weather_url\n",
    "            }\n",
    "        }\n",
    "    ],\n",
    "}\n",
    "\n",
    "\n",
    "# contents 만들기\n",
    "for place in recommands:\n",
    "    title = place.get('title')  # 장소 이름\n",
    "    # title : 태극쿵푸<b>마라탕</b>\n",
    "    # html 태그 제거\n",
    "    title = title.replace('<b>','').replace('</b>','')\n",
    "    \n",
    "    category = place.get('category')  # 장소 카테고리\n",
    "    telephone = place.get('telephone')  # 장소 전화번호\n",
    "    address = place.get('address')  # 장소 지번 주소\n",
    "\n",
    "    # 각 장소를 클릭할 때 네이버 검색으로 연결해주기 위해 작성된 코드\n",
    "    enc_address = urllib.parse.quote(address + ' ' + title)\n",
    "    query = \"query=\" + enc_address\n",
    "\n",
    "    # 음식 카테고리에 따라 해당 대표음식 이미지 출력(이미지 url이용)\n",
    "    if '카페' in category:\n",
    "        image_url = \"https://freesvg.org/img/pitr_Coffee_cup_icon.png\"\n",
    "    elif '치킨' in category:\n",
    "        image_url = \"http://www.momstouch.co.kr/data/shopimages/xboard/menu/20170622893503.jpg\"\n",
    "    elif '전' in category:\n",
    "        image_url = \"http://www.sk5.co.kr/img_src/s600/a918/a9180025.jpg\"\n",
    "    elif '부침' in category:\n",
    "        image_url = \"http://www.sk5.co.kr/img_src/s600/a918/a9180025.jpg\"\n",
    "    elif '칼국수' in category:\n",
    "        image_url = \"http://www.sk5.co.kr/img_src/s600/1209/12091443.jpg\"\n",
    "    elif '찜' in category:\n",
    "        image_url = \"https://t1.daumcdn.net/cfile/tistory/26590D3C577B13FB30\"\n",
    "    elif '부대찌개' in category:\n",
    "        image_url = \"https://t1.daumcdn.net/cfile/tistory/235B103C577B13FB2F\"\n",
    "    elif '일식' in category:\n",
    "        image_url = \"http://www.simbata.co.kr/img_src/s600/1227/12273259.jpg\"\n",
    "    elif '고기' in category:\n",
    "        image_url = \"https://t1.daumcdn.net/liveboard/dailylife/8f41a57e8e0f4ce7878ffad0eda9e5bc.JPG\"\n",
    "    else:\n",
    "        image_url = \"https://pgnqdrjultom1827145.cdn.ntruss.com/img/0e/fe/0efeb7320298d35eb99b02e2af0cc0a6cdb87174cfd2f85e36f501a87efd6448_v1.jpg\"\n",
    "\n",
    "    # 전화번호가 있다면 제목과 함께 넣어줍니다.\n",
    "    if telephone:\n",
    "        title = title + \"\\ntel) \" + telephone\n",
    "\n",
    "    # 카카오톡 리스트 템플릿 형식에 맞춰줍니다.\n",
    "    content = {\n",
    "        \"title\": \"[\" + category + \"] \" + title,\n",
    "        \"description\": ' '.join(address.split()[1:]),\n",
    "        \"image_url\": image_url,\n",
    "        \"image_width\": 50, \"image_height\": 50,\n",
    "        \"link\": {\n",
    "            \"web_url\": \"https://search.naver.com/search.naver?\" + query,\n",
    "            \"mobile_web_url\": \"https://search.naver.com/search.naver?\" + query\n",
    "        }\n",
    "    }\n",
    "    \n",
    "    contents.append(content)\n",
    "\n",
    "# JSON 형식 -> 문자열 변환\n",
    "payload = {\n",
    "    \"template_object\" : json.dumps(template)\n",
    "}\n",
    "\n",
    "# 카카오톡 보내기\n",
    "res = requests.post(kakaotalk_template_url, data=payload, headers=kheaders)\n",
    "\n",
    "if res.json().get('result_code') == 0:\n",
    "    print('메시지를 성공적으로 보냈습니다.')\n",
    "else:\n",
    "    print('메시지를 성공적으로 보내지 못했습니다. 오류메시지 : ' + str(res.json()))\n",
    "\n",
    "\n",
    "# # 맛집 위치를 카카오맵을 통해 카카오톡으로 전송"
   ]
  },
  {
   "cell_type": "code",
   "execution_count": null,
   "metadata": {},
   "outputs": [],
   "source": []
  }
 ],
 "metadata": {
  "kernelspec": {
   "display_name": "Python 3",
   "language": "python",
   "name": "python3"
  },
  "language_info": {
   "codemirror_mode": {
    "name": "ipython",
    "version": 3
   },
   "file_extension": ".py",
   "mimetype": "text/x-python",
   "name": "python",
   "nbconvert_exporter": "python",
   "pygments_lexer": "ipython3",
   "version": "3.7.6"
  }
 },
 "nbformat": 4,
 "nbformat_minor": 4
}
