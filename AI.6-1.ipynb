{
 "cells": [
  {
   "cell_type": "code",
   "execution_count": 15,
   "metadata": {},
   "outputs": [
    {
     "name": "stdout",
     "output_type": "stream",
     "text": [
      "첫 번째 정수 : 52\n",
      "두 번째 정수 : 89\n",
      "연산자 : +\n",
      "52 + 89 = 141\n"
     ]
    }
   ],
   "source": [
    "a = int(input(\"첫 번째 정수 : \"))\n",
    "b = int(input(\"두 번째 정수 : \"))\n",
    "c = input(\"연산자 : \")\n",
    "\n",
    "if c == '+':\n",
    "    d = a + b\n",
    "elif c == '-':\n",
    "    d = a - b\n",
    "elif c == '*':\n",
    "    d = a * b\n",
    "elif c == '//':\n",
    "    d = a // b\n",
    "elif c == '/':\n",
    "    d = a / b\n",
    "else :\n",
    "    d = a % b\n",
    "    \n",
    "print(a, c, b, \"=\", d)"
   ]
  },
  {
   "cell_type": "code",
   "execution_count": null,
   "metadata": {},
   "outputs": [],
   "source": []
  },
  {
   "cell_type": "code",
   "execution_count": null,
   "metadata": {},
   "outputs": [],
   "source": []
  }
 ],
 "metadata": {
  "kernelspec": {
   "display_name": "Python 3",
   "language": "python",
   "name": "python3"
  },
  "language_info": {
   "codemirror_mode": {
    "name": "ipython",
    "version": 3
   },
   "file_extension": ".py",
   "mimetype": "text/x-python",
   "name": "python",
   "nbconvert_exporter": "python",
   "pygments_lexer": "ipython3",
   "version": "3.7.6"
  }
 },
 "nbformat": 4,
 "nbformat_minor": 4
}
